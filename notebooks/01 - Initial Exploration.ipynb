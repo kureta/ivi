{
 "cells": [
  {
   "cell_type": "code",
   "execution_count": null,
   "id": "a43b60fa-55ea-469b-83d1-721ccd28832c",
   "metadata": {},
   "outputs": [],
   "source": [
    "from pathlib import Path\n",
    "\n",
    "%matplotlib inline\n",
    "import matplotlib.pyplot as plt\n",
    "import librosa\n",
    "import numpy as np\n",
    "from IPython.display import Audio"
   ]
  },
  {
   "cell_type": "code",
   "execution_count": null,
   "id": "d82379e0-a5f1-40a0-ae70-ec3dd631d65a",
   "metadata": {},
   "outputs": [],
   "source": [
    "SAMPLES_DIR = Path(\"/home/kureta/Music/Chorale Samples/\")\n",
    "EXTENSIONS = [\"mp3\", \"wav\"]"
   ]
  },
  {
   "cell_type": "code",
   "execution_count": null,
   "id": "4c5db161-a4cb-4d85-95e7-332621ff29e4",
   "metadata": {},
   "outputs": [],
   "source": [
    "AUDIO_FILES = []\n",
    "for ext in EXTENSIONS:\n",
    "    AUDIO_FILES.extend(SAMPLES_DIR.glob(f\"**/*.{ext}\"))"
   ]
  },
  {
   "cell_type": "code",
   "execution_count": null,
   "id": "13ec8644-b37d-4d6b-bfa4-04b871dfa212",
   "metadata": {},
   "outputs": [],
   "source": [
    "SAMPLE_RATE = 44100"
   ]
  },
  {
   "cell_type": "code",
   "execution_count": null,
   "id": "4dca6e5d-a524-4043-9da7-8f664ab6ff8d",
   "metadata": {},
   "outputs": [],
   "source": [
    "waves = [librosa.load(af, sr=SAMPLE_RATE, mono=True)[0] for af in AUDIO_FILES]"
   ]
  },
  {
   "cell_type": "code",
   "execution_count": null,
   "id": "9338ba14-ecb6-498d-9157-fc183de086f3",
   "metadata": {},
   "outputs": [],
   "source": [
    "plt.figure(figsize=(14, 5))\n",
    "librosa.display.waveshow(waves[0], sr=SAMPLE_RATE)"
   ]
  },
  {
   "cell_type": "code",
   "execution_count": null,
   "id": "dcb2aa5c-ca7d-45e9-90eb-add448230904",
   "metadata": {},
   "outputs": [],
   "source": [
    "frame_length = librosa.time_to_samples(250 / 1000, sr=SAMPLE_RATE)\n",
    "if frame_length % 2 == 1:\n",
    "    frame_length += 1\n",
    "hop_length = frame_length // 8\n",
    "\n",
    "frames = librosa.util.frame(waves[0], frame_length=frame_length, hop_length=hop_length).T"
   ]
  },
  {
   "cell_type": "code",
   "execution_count": null,
   "id": "0dd6fc10-3fbb-4796-a9c9-92f0984d9600",
   "metadata": {},
   "outputs": [],
   "source": [
    "window = librosa.filters.get_window(\"hann\", frame_length, fftbins=False)"
   ]
  },
  {
   "cell_type": "code",
   "execution_count": null,
   "id": "9d439bbc-5274-4bf8-b6f4-ced6062cb98d",
   "metadata": {},
   "outputs": [],
   "source": [
    "librosa.display.waveshow(window, sr=SAMPLE_RATE)"
   ]
  },
  {
   "cell_type": "code",
   "execution_count": null,
   "id": "35565f25-5e5a-4c09-b7e7-8a217c2c4221",
   "metadata": {},
   "outputs": [],
   "source": [
    "librosa.display.waveshow(frames[100] * window, sr=SAMPLE_RATE)"
   ]
  },
  {
   "cell_type": "code",
   "execution_count": null,
   "id": "00646dde-e209-4381-b1a6-2c3f95385f18",
   "metadata": {},
   "outputs": [],
   "source": [
    "def overlap_add(frames, hop_size):\n",
    "    frame_size = len(frames[0])\n",
    "    output_length = hop_size * (len(frames) - 1) + frame_size\n",
    "    output_signal = np.zeros(output_length)\n",
    "\n",
    "    for i, frame in enumerate(frames):\n",
    "        start = i * hop_size\n",
    "        output_signal[start:start + frame_size] += frame\n",
    "\n",
    "    return output_signal"
   ]
  },
  {
   "cell_type": "code",
   "execution_count": null,
   "id": "dc24e06b-8400-4b02-86e8-7ffa0b460db1",
   "metadata": {},
   "outputs": [],
   "source": [
    "result = overlap_add(frames * window, hop_length)"
   ]
  },
  {
   "cell_type": "code",
   "execution_count": null,
   "id": "dd0f2b7c-7e36-4849-83f1-759cf95bf73b",
   "metadata": {},
   "outputs": [],
   "source": [
    "plt.figure(figsize=(14, 5))\n",
    "librosa.display.waveshow(result, sr=SAMPLE_RATE)"
   ]
  },
  {
   "cell_type": "code",
   "execution_count": null,
   "id": "38502671-cd4c-432b-87e3-d03cc1d65ff3",
   "metadata": {},
   "outputs": [],
   "source": [
    "Audio(waves[0], rate=SAMPLE_RATE, normalize=True)"
   ]
  },
  {
   "cell_type": "code",
   "execution_count": null,
   "id": "fdbe6efc-dd16-4096-b910-facc3530b28d",
   "metadata": {},
   "outputs": [],
   "source": [
    "Audio(result, rate=SAMPLE_RATE, normalize=True)"
   ]
  },
  {
   "cell_type": "code",
   "execution_count": null,
   "id": "17c8d1c1-55a7-410d-8225-5cb2c30e26e2",
   "metadata": {},
   "outputs": [],
   "source": [
    "def repeat_frames(frames, n):\n",
    "    # Reshape the frames array to ensure it's a 2D array\n",
    "    frames = np.array(frames)\n",
    "    \n",
    "    # Repeat each frame n times along the first axis\n",
    "    repeated_frames = np.repeat(frames, n, axis=0)\n",
    "    \n",
    "    return repeated_frames"
   ]
  },
  {
   "cell_type": "code",
   "execution_count": null,
   "id": "d7b4c4b0-a648-4b52-867a-731b30349ea4",
   "metadata": {},
   "outputs": [],
   "source": [
    "stretched_frames = repeat_frames(frames, 2)"
   ]
  },
  {
   "cell_type": "code",
   "execution_count": null,
   "id": "31936331-b3a9-4359-91d9-13aa8e2ab672",
   "metadata": {},
   "outputs": [],
   "source": [
    "stretched = overlap_add(stretched_frames * window, hop_length)"
   ]
  },
  {
   "cell_type": "code",
   "execution_count": null,
   "id": "3efef843-b409-495d-b230-e7888bcb409c",
   "metadata": {},
   "outputs": [],
   "source": [
    "Audio(stretched, rate=SAMPLE_RATE, normalize=True)"
   ]
  },
  {
   "cell_type": "code",
   "execution_count": null,
   "id": "b4fd2ddf-f6e8-472a-a848-902f54ccc0fd",
   "metadata": {},
   "outputs": [],
   "source": [
    "def crossfade_frames(frame1, frame2, crossfade_length):\n",
    "    fade_out = np.linspace(1, 0, crossfade_length)\n",
    "    fade_in = np.linspace(0, 1, crossfade_length)\n",
    "    \n",
    "    overlap1 = frame1[-crossfade_length:] * fade_out\n",
    "    overlap2 = frame2[:crossfade_length] * fade_in\n",
    "    \n",
    "    crossfaded_frame = np.concatenate((frame1[:-crossfade_length], \n",
    "                                       overlap1 + overlap2, \n",
    "                                       frame2[crossfade_length:]))\n",
    "    return crossfaded_frame"
   ]
  },
  {
   "cell_type": "code",
   "execution_count": null,
   "id": "dae71a48-1fc6-4097-95be-e7f29b896238",
   "metadata": {},
   "outputs": [],
   "source": [
    "# Combine frames with crossfading\n",
    "stretched_frames = repeat_frames(frames, 2)\n",
    "smoothed_frames = stretched_frames[:librosa.time_to_frames(30, sr=SAMPLE_RATE, hop_length=hop_length)] * window\n",
    "output_audio = smoothed_frames[0]\n",
    "for i in range(1, len(smoothed_frames)):\n",
    "    output_audio = crossfade_frames(output_audio, smoothed_frames[i], 100)"
   ]
  },
  {
   "cell_type": "code",
   "execution_count": null,
   "id": "c947afb6-b3fc-4438-9300-d652d9589609",
   "metadata": {},
   "outputs": [],
   "source": [
    "Audio(output_audio, rate=SAMPLE_RATE, normalize=True)"
   ]
  },
  {
   "cell_type": "code",
   "execution_count": null,
   "id": "46d16b2c-67a9-4f0b-9169-1cc5e1a2931a",
   "metadata": {},
   "outputs": [],
   "source": [
    "window = librosa.filters.get_window(\"hamming\", frame_length, fftbins=False)\n",
    "stretched = overlap_add(stretched_frames * window, hop_length)"
   ]
  },
  {
   "cell_type": "code",
   "execution_count": null,
   "id": "a961f55e-3e73-4e89-baa1-521dba19acdc",
   "metadata": {},
   "outputs": [],
   "source": [
    "Audio(stretched[:librosa.time_to_samples(30, sr=SAMPLE_RATE)], rate=SAMPLE_RATE, normalize=True)"
   ]
  },
  {
   "cell_type": "code",
   "execution_count": null,
   "id": "06b760f9-289b-40e1-8705-4447a5d8b73e",
   "metadata": {},
   "outputs": [],
   "source": []
  }
 ],
 "metadata": {
  "kernelspec": {
   "display_name": "Python 3 (ipykernel)",
   "language": "python",
   "name": "python3"
  },
  "language_info": {
   "codemirror_mode": {
    "name": "ipython",
    "version": 3
   },
   "file_extension": ".py",
   "mimetype": "text/x-python",
   "name": "python",
   "nbconvert_exporter": "python",
   "pygments_lexer": "ipython3",
   "version": "3.11.11"
  }
 },
 "nbformat": 4,
 "nbformat_minor": 5
}
